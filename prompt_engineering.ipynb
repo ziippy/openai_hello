{
 "cells": [
  {
   "cell_type": "markdown",
   "metadata": {},
   "source": [
    "# 프롬프트 엔지니어링"
   ]
  },
  {
   "cell_type": "code",
   "execution_count": 9,
   "metadata": {},
   "outputs": [],
   "source": [
    "import os\n",
    "from dotenv import load_dotenv\n",
    "\n",
    "load_dotenv()\n",
    "\n",
    "openai_api_key = os.environ['OPENAI_API_KEY']"
   ]
  },
  {
   "cell_type": "code",
   "execution_count": 10,
   "metadata": {},
   "outputs": [],
   "source": [
    "!source ~/.bashrc\n",
    "\n",
    "from openai import OpenAI\n",
    "\n",
    "client = OpenAI(api_key=openai_api_key)"
   ]
  },
  {
   "cell_type": "markdown",
   "metadata": {},
   "source": [
    "## 명확한 지침을 제공"
   ]
  },
  {
   "cell_type": "code",
   "execution_count": 11,
   "metadata": {},
   "outputs": [],
   "source": [
    "system_message = \"\"\"\n",
    "당신은 주어진 텍스트를 바탕으로 튜토리얼을 생성하는 AI 어시스턴트입니다.\n",
    "텍스트에 어떤 절차를 진행하는 방법에 대한 지침이 포함되어 있다면, \n",
    "글머리 기호 목록 형식으로 튜토리얼을 생성하십시오.\n",
    "그렇지 않으면 텍스트에 지침이 포함되어 있지 않음을 사용자에게 알리십시오.\n",
    "\n",
    "텍스트:\n",
    "\"\"\"\n",
    "\n",
    "instructions = \"\"\"\n",
    "이탈리아 제노바에서 유명한 소스를 준비하려면, 먼저 잣을 구워\n",
    "바질과 마늘과 함께 부엌 절구에 넣어 굵게 다집니다. \n",
    "그런 다음 절구에 오일의 절반을 넣고 소금과 후추로 간을 합니다.\n",
    "마지막으로 페스토를 그릇에 옮기고 파르메산 치즈 간 것을 넣고 저어줍니다.\n",
    "\"\"\""
   ]
  },
  {
   "cell_type": "code",
   "execution_count": 12,
   "metadata": {},
   "outputs": [
    {
     "name": "stdout",
     "output_type": "stream",
     "text": [
      "다음은 이탈리아 제노바에서 유명한 소스를 준비하는 튜토리얼입니다:\n",
      "\n",
      "- 잣을 구워줍니다.\n",
      "- 구운 잣을 부엌 절구에 넣습니다.\n",
      "- 바질과 마늘을 절구에 추가합니다.\n",
      "- 모든 재료를 굵게 다집니다.\n",
      "- 절구에 오일의 절반을 넣습니다.\n",
      "- 소금과 후추로 간을 합니다.\n",
      "- 페스토를 그릇에 옮깁니다.\n",
      "- 파르메산 치즈를 간 후 그릇에 넣고 잘 저어줍니다.\n"
     ]
    }
   ],
   "source": [
    "response = client.chat.completions.create(\n",
    "    model=\"gpt-4o-mini\",\n",
    "    messages=[\n",
    "        {\"role\": \"system\", \"content\": system_message},\n",
    "        {\"role\": \"user\", \"content\": instructions},\n",
    "    ]\n",
    ")\n",
    "\n",
    "#print(response)\n",
    "print(response.choices[0].message.content)"
   ]
  },
  {
   "cell_type": "code",
   "execution_count": 14,
   "metadata": {},
   "outputs": [
    {
     "name": "stdout",
     "output_type": "stream",
     "text": [
      "제공된 텍스트에는 지침이 포함되어 있지 않습니다. 다른 도움이 필요하시면 말씀해 주세요!\n"
     ]
    }
   ],
   "source": [
    "# 지침이 없는 예시\n",
    "response = client.chat.completions.create(\n",
    "    model=\"gpt-4o-mini\",\n",
    "    messages=[\n",
    "        {\"role\": \"system\", \"content\": system_message},\n",
    "        {\"role\": \"user\", \"content\": '태양이 빛나고 개들이 해변에서 뛰고 있습니다.'},\n",
    "    ]\n",
    ")\n",
    "\n",
    "#print(response)\n",
    "print(response.choices[0].message.content)"
   ]
  },
  {
   "cell_type": "markdown",
   "metadata": {},
   "source": [
    "## 복잡한 과업을 하위 과업으로 분할"
   ]
  },
  {
   "cell_type": "code",
   "execution_count": 15,
   "metadata": {},
   "outputs": [],
   "source": [
    "system_message = \"\"\"\n",
    "당신은 기사를 요약하는 AI 어시스턴트입니다.\n",
    "이 작업을 완료하려면 다음 하위 작업을 수행하십시오:\n",
    "\n",
    "제공된 기사 내용을 종합적으로 읽고 주요 주제와 핵심 요점을 식별합니다.\n",
    "현재 기사 내용을 요약하여 본질적인 정보와 주요 아이디어를 전달하는 단락 요약을 생성합니다.\n",
    "과정의 각 단계를 출력합니다.\n",
    "기사:\n",
    "\"\"\"\n",
    "\n",
    "article = \"\"\"\n",
    "순환 신경망, 장단기 기억 및 게이트 순환 신경망은 특히 언어 모델링 및 기계 번역과 같은 시퀀스 모델링 및 변환 문제에서 최첨단 접근 방식으로 확고히 자리 잡았습니다. \n",
    "그 이후로 수많은 노력들이 순환 언어 모델과 인코더-디코더 아키텍처의 경계를 계속 확장하고 있습니다.\n",
    "순환 모델은 일반적으로 입력 및 출력 시퀀스의 심볼 위치를 따라 계산을 요인화합니다. \n",
    "계산 시간의 단계에 맞추어 위치를 정렬하면, 이전 숨겨진 상태 ht-1 및 위치 t에 대한 입력의 함수로서 숨겨진 상태 ht의 시퀀스를 생성합니다. \n",
    "이러한 본질적으로 순차적인 특성은 훈련 예제 내에서 병렬화를 방지하여 더 긴 시퀀스 길이에서 중요해집니다. \n",
    "메모리 제한이 예제 간 배칭을 제한하기 때문입니다. \n",
    "최근 작업에서는 팩토라이제이션 트릭 및 조건부 계산을 통해 계산 효율성을 크게 개선하면서 후자의 경우 모델 성능도 개선했습니다. \n",
    "그러나 순차 계산의 근본적인 제약은 여전히 남아 있습니다.\n",
    "어텐션 메커니즘은 다양한 작업에서 설득력 있는 시퀀스 모델링 및 변환 모델의 필수 요소가 되어 입력 또는 출력 시퀀스의 거리와 관계없이 종속성을 모델링할 수 있게 합니다. \n",
    "하지만 몇 가지 경우를 제외하고 이러한 어텐션 메커니즘은 순환 네트워크와 함께 사용됩니다.\n",
    "이 작업에서는 반복을 배제하고 입력과 출력을 연결하기 위해 전적으로 어텐션 메커니즘에 의존하는 모델 아키텍처인 트랜스포머를 제안합니다. \n",
    "트랜스포머는 훨씬 더 많은 병렬 처리가 가능하며, 8개의 P100 GPU에서 12시간 동안 훈련한 후 번역 품질에서 새로운 최첨단에 도달할 수 있습니다.\n",
    "\"\"\""
   ]
  },
  {
   "cell_type": "code",
   "execution_count": 16,
   "metadata": {},
   "outputs": [
    {
     "name": "stdout",
     "output_type": "stream",
     "text": [
      "### 주요 주제와 핵심 요점 식별\n",
      "\n",
      "1. **모델 아키텍처의 발전**: 순환 신경망(RNN), 장단기 기억(LSTM), 게이트 순환 신경망(GRN)은 언어 모델링과 기계 번역에서 중요한 역할을 함.\n",
      "2. **순차적 계산의 한계**: RNN은 입력과 출력 시퀀스를 순차적으로 처리하므로 병렬화에 한계가 있으며, 긴 시퀀스의 경우 훈련 시 메모리 제한이 발생함.\n",
      "3. **어텐션 메커니즘의 중요성**: 어텐션 메커니즘은 시퀀스 간의 종속성을 효율적으로 모델링할 수 있도록 해주며, RNN과 함께 사용되는 경우가 많음.\n",
      "4. **트랜스포머 아키텍처의 제안**: 이 논문에서는 RNN을 사용하지 않고 어텐션 메커니즘에 기반한 트랜스포머 아키텍처를 제안하며, 이는 더 높은 병렬 처리 성능을 제공하고 번역 품질을 향상시킬 수 있음.\n",
      "\n",
      "### 기사 요약\n",
      "\n",
      "순환 신경망(RNN)과 그 변형들이 언어 모델링 및 기계 번역에서 오랫동안 사용되어 왔지만, 이들은 순차적 계산으로 인한 병렬 처리 한계를 가지고 있다. 최근의 연구에서는 계산 효율성을 높이기 위한 다양한 시도가 있었으나, 여전히 순차적 처리의 제약이 존재한다. 어텐션 메커니즘은 이러한 문제를 해결하는 데 중요한 역할을 하며, 이는 입력과 출력 간의 의존성을 효과적으로 모델링할 수 있게 한다. 이 논문에서는 RNN을 제외하고 어텐션 메커니즘만을 사용하여 입력과 출력을 연결하는 새로운 트랜스포머 아키텍처를 제안하고, 이는 한층 향상된 병렬 처리 성능과 번역 품질을 달성할 수 있음을 보여준다.\n"
     ]
    }
   ],
   "source": [
    "response = client.chat.completions.create(\n",
    "    model=\"gpt-4o-mini\",\n",
    "    messages=[\n",
    "        {\"role\": \"system\", \"content\": system_message},\n",
    "        {\"role\": \"user\", \"content\": article},\n",
    "    ]\n",
    ")\n",
    "\n",
    "#print(response)\n",
    "print(response.choices[0].message.content)"
   ]
  },
  {
   "cell_type": "markdown",
   "metadata": {},
   "source": [
    "## 정당화를 요청하기"
   ]
  },
  {
   "cell_type": "code",
   "execution_count": 17,
   "metadata": {},
   "outputs": [],
   "source": [
    "system_message = \"\"\"\n",
    "당신은 수수께끼를 푸는 데 특화된 AI 어시스턴트입니다.\n",
    "주어진 수수께끼를 최선을 다해 풀어주세요.\n",
    "답변에 대한 명확한 정당화와 그 뒤의 추론 과정을 제공해 주세요.\n",
    "\n",
    "수수께끼:\n",
    "\"\"\"\n",
    "\n",
    "riddle = \"\"\"\n",
    "얼굴과 두 손은 있지만, 팔과 다리는 없는 것은 무엇일까요?\n",
    "\"\"\""
   ]
  },
  {
   "cell_type": "code",
   "execution_count": 18,
   "metadata": {},
   "outputs": [
    {
     "name": "stdout",
     "output_type": "stream",
     "text": [
      "이 수수께끼의 답은 \"시계\"입니다.\n",
      "\n",
      "정당화와 추론 과정은 다음과 같습니다:\n",
      "\n",
      "1. **얼굴(Face)**: 시계의 '얼굴'은 일반적으로 시계판을 뜻합니다. 시계판에는 숫자와 바늘이 있어 시간을 표시합니다.\n",
      "   \n",
      "2. **두 손(Hands)**: '손'은 시계의 시침과 분침을 가리킵니다. 따라서, 시계에는 시간과 분을 나타내는 두 개의 손(바늘)이 있습니다.\n",
      "\n",
      "3. **팔과 다리 없음**: 시계는 시간이나 분을 표시하는 장치일 뿐, 사람의 팔과 다리가 존재하지 않습니다.\n",
      "\n",
      "이러한 요소들을 종합해 볼 때, 얼굴과 두 손은 있지만 팔과 다리가 없는 것은 '시계'라고 결론 지을 수 있습니다.\n"
     ]
    }
   ],
   "source": [
    "response = client.chat.completions.create(\n",
    "    model=\"gpt-4o-mini\",\n",
    "    messages=[\n",
    "        {\"role\": \"system\", \"content\": system_message},\n",
    "        {\"role\": \"user\", \"content\": riddle},\n",
    "    ]\n",
    ")\n",
    "\n",
    "#print(response)\n",
    "print(response.choices[0].message.content)"
   ]
  },
  {
   "cell_type": "code",
   "execution_count": 19,
   "metadata": {},
   "outputs": [],
   "source": [
    "system_message = \"\"\"\n",
    "당신은 수수께끼를 푸는 데 특화된 AI 어시스턴트입니다.\n",
    "주어진 수수께끼에 대해 세 가지 답변을 생성해야 합니다.\n",
    "각 답변에 대해, 당신이 한 추론 과정을 구체적으로 설명해주세요.\n",
    "그런 다음, 세 가지 답변 중에서 수수께끼를 고려했을 때 가장 그럴듯한 것을 선택하세요.\n",
    "\n",
    "수수께끼:\n",
    "\"\"\"\n",
    "\n",
    "riddle = \"\"\"\n",
    "얼굴과 두 손은 있지만, 팔과 다리는 없는 것은 무엇일까요?\n",
    "\"\"\""
   ]
  },
  {
   "cell_type": "code",
   "execution_count": 20,
   "metadata": {},
   "outputs": [
    {
     "name": "stdout",
     "output_type": "stream",
     "text": [
      "이 수수께끼를 분석해보겠습니다. 주어진 조건은 \"얼굴과 두 손은 있지만, 팔과 다리는 없는 것\"입니다. 이를 바탕으로 세 가지 가능한 답변을 생각해보겠습니다.\n",
      "\n",
      "1. **시계**  \n",
      "   - **추론 과정:** 일반적으로 시계는 시계 얼굴(시각을 보여주는 부분)과 두 개의 시계 바늘(시계의 '손')이 있습니다. 하지만 시계는 팔이나 다리가 없습니다. 따라서 이 설명이 수수께끼의 조건을 만족합니다.\n",
      "\n",
      "2. **인형**  \n",
      "   - **추론 과정:** 특정 종류의 인형, 예를 들어 손이 두 개 달린 인형은 얼굴을 가지고 있지만, 팔이나 다리가 없는 경우가 있습니다. 따라서 이 인형도 수수께끼에서 요구하는 조건을 충족할 수 있습니다.\n",
      "\n",
      "3. **그림**  \n",
      "   - **추론 과정:** 그림은 사람의 얼굴과 손이 그려질 수 있지만, 실제로 존재하는 것이 아니므로 팔이나 다리를 가지지 않습니다. 하지만 이것은 수수께끼의 맥락에서 다소 비유적일 수 있습니다.\n",
      "\n",
      "이제 이 세 가지 답변을 비교해보겠습니다.\n",
      "- **시계**는 일반적으로 '얼굴'과 '손'이라는 표현이 잘 어울리는 매체입니다.\n",
      "- **인형**도 가능성이 있지만, 보기 드문 경우일 수 있습니다.\n",
      "- **그림**은 좀 더 모호한 해석이 필요할 수 있기 때문에, 명확한 조건을 충족하지 못할 가능성이 있습니다.\n",
      "\n",
      "결론적으로, \"시계\"가 가장 그럴듯한 답변입니다. 시계는 시계 얼굴과 두 개의 손을 가지고 있지만, 팔과 다리는 없으므로 이 수수께끼에 가장 적절한 답이라고 할 수 있습니다.\n"
     ]
    }
   ],
   "source": [
    "response = client.chat.completions.create(\n",
    "    model=\"gpt-4o-mini\",\n",
    "    messages=[\n",
    "        {\"role\": \"system\", \"content\": system_message},\n",
    "        {\"role\": \"user\", \"content\": riddle},\n",
    "    ]\n",
    ")\n",
    "\n",
    "#print(response)\n",
    "print(response.choices[0].message.content)"
   ]
  },
  {
   "cell_type": "markdown",
   "metadata": {},
   "source": [
    "## 마지막에 지침을 반복"
   ]
  },
  {
   "cell_type": "code",
   "execution_count": 21,
   "metadata": {},
   "outputs": [],
   "source": [
    "system_message = \"\"\"\n",
    "당신은 대화 분석기입니다. 대화의 감정을 긍정, 부정, 중립으로 분류합니다.\n",
    "감정만 구두점 없이 출력합니다.\n",
    "\n",
    "대화:\n",
    "\"\"\"\n",
    "\n",
    "conversation = \"\"\"\n",
    "고객: 안녕하세요, 주문에 대해 도움을 받고 싶습니다.\n",
    "AI 에이전트: 안녕하세요, 저희 온라인 스토어에 방문해 주셔서 감사합니다. 저는 AI 에이전트입니다. 무엇을 도와드릴까요?\n",
    "고객: 어제 신발 한 켤레를 주문했는데 확인 이메일을 받지 못했습니다. 주문 상태를 확인해 주시겠어요?\n",
    "AI 에이전트: 물론 도와드리겠습니다. 주문 번호와 이메일 주소를 알려주시겠습니까?\n",
    "고객: 주문 번호는 123456789이고 이메일은 hong.gildong@example.com입니다.\n",
    "AI 에이전트: 감사합니다. 시스템에서 주문을 찾았습니다. 주문이 아직 처리 중이며 곧 발송될 예정입니다. 24시간 이내에 확인 이메일을 받으실 수 있습니다.\n",
    "고객: 신발이 도착하는 데 얼마나 걸릴까요?\n",
    "AI 에이전트: 저희 배송 정책에 따르면 신발이 고객님의 주소로 도착하는 데 약 3~5 영업일이 소요됩니다. 주문이 발송되면 이메일로 전송되는 추적 번호를 사용해 온라인으로 주문을 추적할 수 있습니다.\n",
    "고객: 알겠습니다.\n",
    "AI 에이전트: 오늘 더 도와드릴 일이 있을까요?\n",
    "고객: 아니요.\n",
    "AI 에이전트: 저희 온라인 스토어를 이용해 주셔서 감사합니다. 좋은 하루 되세요.\n",
    "\"\"\""
   ]
  },
  {
   "cell_type": "code",
   "execution_count": 33,
   "metadata": {},
   "outputs": [
    {
     "name": "stdout",
     "output_type": "stream",
     "text": [
      "중립\n"
     ]
    }
   ],
   "source": [
    "response = client.chat.completions.create(\n",
    "    model=\"gpt-4o-mini\",\n",
    "    messages=[\n",
    "        {\"role\": \"system\", \"content\": system_message},\n",
    "        {\"role\": \"user\", \"content\": conversation},\n",
    "    ]\n",
    ")\n",
    "\n",
    "#print(response)\n",
    "print(response.choices[0].message.content)"
   ]
  },
  {
   "cell_type": "code",
   "execution_count": 44,
   "metadata": {},
   "outputs": [],
   "source": [
    "system_message = f\"\"\"\n",
    "당신은 대화 분석기입니다. 대화의 감정을 긍정, 부정, 중립으로 분류합니다.\n",
    "감정만 구두점 없이 출력합니다.\n",
    "\n",
    "대화:\n",
    "{conversation}\n",
    "\n",
    "감정만 구두점 없이 출력하는 것을 잊지 마세요!\n",
    "\"\"\""
   ]
  },
  {
   "cell_type": "code",
   "execution_count": 46,
   "metadata": {},
   "outputs": [
    {
     "name": "stdout",
     "output_type": "stream",
     "text": [
      "중립\n"
     ]
    }
   ],
   "source": [
    "response = client.chat.completions.create(\n",
    "    model=\"gpt-4o-mini\",\n",
    "    messages=[\n",
    "        {\"role\": \"system\", \"content\": system_message},\n",
    "        {\"role\": \"user\", \"content\": conversation},\n",
    "    ]\n",
    ")\n",
    "\n",
    "#print(response)\n",
    "print(response.choices[0].message.content)"
   ]
  },
  {
   "cell_type": "code",
   "execution_count": 47,
   "metadata": {},
   "outputs": [],
   "source": [
    "text = \"\"\"\n",
    "중성자는 양성도 음성도 아닌 중성 전하를 가진 아원자 입자이며, 질량은 양성자보다 약간 더 큽니다. \n",
    "일반적인 수소를 제외한 모든 원자핵에 존재합니다. \n",
    "중성자는 양성자 및 전자와 함께 원자를 구성하는 세 가지 기본 입자 중 하나입니다. \n",
    "\"중성자\"라는 용어는 전하를 띠지 않기 때문에 전기적으로 중립이라는 사실에서 유래했습니다.\n",
    "\"\"\"\n",
    "\n",
    "system_message = f\"\"\"\n",
    "5살 어린이를 위해 텍스트를 다시 구성하세요. 500자 이내로 짧게 작성하세요. 동물의 비유를 사용하세요.\n",
    "\n",
    "텍스트는 다음과 같습니다:\n",
    "\n",
    "{text}\n",
    "\n",
    "\"\"\""
   ]
  },
  {
   "cell_type": "code",
   "execution_count": 48,
   "metadata": {},
   "outputs": [
    {
     "name": "stdout",
     "output_type": "stream",
     "text": [
      "중성자를 동물 친구로 비유해 볼게요. 동물원에 다양한 친구들이 있어요. 양성자라는 친구는 항상 긍정적이고, 전자라는 친구는 가끔 부정적인 기분을 가진답니다. 그런데 중성자라는 친구는 긍정도 부정도 아닌, 그냥 편안한 성격을 가지고 있어요. 이 중성자는 다른 친구들과 함께 원자라는 큰 집을 만들어요. 중성자는 그 집에서 특별한 역할을 하는데, 전기를 띠지 않아서 중립적이에요. 그래서 언제나 모든 친구들과 잘 어울린답니다. 이렇게 중성자는 원자의 집을 안정적으로 만들어 주는 중요한 친구예요!\n"
     ]
    }
   ],
   "source": [
    "response = client.chat.completions.create(\n",
    "    model=\"gpt-4o-mini\",\n",
    "    messages=[\n",
    "        {\"role\": \"user\", \"content\": system_message},\n",
    "    ]\n",
    ")\n",
    "\n",
    "#print(response)\n",
    "print(response.choices[0].message.content)"
   ]
  },
  {
   "cell_type": "markdown",
   "metadata": {},
   "source": [
    "## 구분 기호를 사용\n",
    "\n",
    "<pre>\n",
    ">>>>\n",
    "====\n",
    "------\n",
    "####\n",
    "``````\n",
    "</pre>\n",
    "\n",
    "이런 연속된 기호를 구분선으로 간주할 수 있다."
   ]
  },
  {
   "cell_type": "code",
   "execution_count": 49,
   "metadata": {},
   "outputs": [],
   "source": [
    "system_message = \"\"\"\n",
    "당신은 파이썬 전문가로서 사용자의 요청에 따라 파이썬 코드를 생성합니다.\n",
    "\n",
    "===>예제 시작\n",
    "\n",
    "---사용자 질문---\n",
    "문자열을 출력하는 함수를 만들어주세요.\n",
    "\n",
    "---사용자 출력---\n",
    "문자열을 출력하는 함수는 아래와 같습니다.\n",
    "```def my_print(text):\n",
    "     return print(text)\n",
    "```\n",
    "<===예제 끝\n",
    "\"\"\"\n",
    "\n",
    "query = \"n번째 피보나치 수를 계산하는 파이썬 함수를 생성하세요\""
   ]
  },
  {
   "cell_type": "code",
   "execution_count": 50,
   "metadata": {},
   "outputs": [
    {
     "name": "stdout",
     "output_type": "stream",
     "text": [
      "n번째 피보나치 수를 계산하는 함수는 아래와 같습니다.\n",
      "\n",
      "```python\n",
      "def fibonacci(n):\n",
      "    if n <= 0:\n",
      "        return \"잘못된 입력입니다. n은 1 이상의 정수여야 합니다.\"\n",
      "    elif n == 1:\n",
      "        return 0\n",
      "    elif n == 2:\n",
      "        return 1\n",
      "    else:\n",
      "        a, b = 0, 1\n",
      "        for _ in range(2, n):\n",
      "            a, b = b, a + b\n",
      "        return b\n",
      "```\n",
      "\n",
      "이 함수를 사용하면 n번째 피보나치 수를 계산할 수 있습니다. 예를 들어, `fibonacci(5)`를 호출하면 3을 반환합니다.\n"
     ]
    }
   ],
   "source": [
    "response = client.chat.completions.create(\n",
    "    model=\"gpt-4o-mini\",\n",
    "    messages=[\n",
    "        {\"role\": \"system\", \"content\": system_message},\n",
    "        {\"role\": \"user\", \"content\": query},\n",
    "    ]\n",
    ")\n",
    "\n",
    "#print(response)\n",
    "print(response.choices[0].message.content)"
   ]
  },
  {
   "cell_type": "markdown",
   "metadata": {},
   "source": [
    "# 고급 프롬프트 엔지니어링\n",
    "\n",
    "## 퓨샷 학습"
   ]
  },
  {
   "cell_type": "code",
   "execution_count": 51,
   "metadata": {},
   "outputs": [],
   "source": [
    "system_message = \"\"\"\n",
    "당신은 AI 마케팅 도우미입니다. 사용자가 새로운 제품 이름에 대한 캐치프레이즈를 만들 수 있도록 도와줍니다.\n",
    "주어진 제품명에 대해 다음 예시와 비슷한 홍보 문구를 만들어주세요.\n",
    "\n",
    "디오스 냉장고 - 여자라서 행복해요\n",
    "롯데리아 크랩버거 - 니들이 게 맛을 알아?\n",
    "SK텔레콤 - 또 다른 세상을 만날 땐 잠시 꺼두셔도 좋습니다\n",
    "\n",
    "제품명:\n",
    "\n",
    "\"\"\"\n",
    "\n",
    "product_name = '첵스 파맛'"
   ]
  },
  {
   "cell_type": "code",
   "execution_count": 52,
   "metadata": {},
   "outputs": [
    {
     "name": "stdout",
     "output_type": "stream",
     "text": [
      "첵스 파맛 - 한 입에 퍼지는 파의 향연!\n"
     ]
    }
   ],
   "source": [
    "response = client.chat.completions.create(\n",
    "    model=\"gpt-4o-mini\", # engine = \"deployment_name\".\n",
    "    messages=[\n",
    "        {\"role\": \"system\", \"content\": system_message},\n",
    "        {\"role\": \"user\", \"content\": product_name},\n",
    "    ]\n",
    ")\n",
    "\n",
    "#print(response)\n",
    "print(response.choices[0].message.content)"
   ]
  },
  {
   "cell_type": "code",
   "execution_count": 53,
   "metadata": {},
   "outputs": [
    {
     "data": {
      "text/html": [
       "<div>\n",
       "<style scoped>\n",
       "    .dataframe tbody tr th:only-of-type {\n",
       "        vertical-align: middle;\n",
       "    }\n",
       "\n",
       "    .dataframe tbody tr th {\n",
       "        vertical-align: top;\n",
       "    }\n",
       "\n",
       "    .dataframe thead th {\n",
       "        text-align: right;\n",
       "    }\n",
       "</style>\n",
       "<table border=\"1\" class=\"dataframe\">\n",
       "  <thead>\n",
       "    <tr style=\"text-align: right;\">\n",
       "      <th></th>\n",
       "      <th>text</th>\n",
       "      <th>label</th>\n",
       "    </tr>\n",
       "  </thead>\n",
       "  <tbody>\n",
       "    <tr>\n",
       "      <th>0</th>\n",
       "      <td>I grew up (b. 1965) watching and loving the Th...</td>\n",
       "      <td>Negative</td>\n",
       "    </tr>\n",
       "    <tr>\n",
       "      <th>1</th>\n",
       "      <td>When I put this movie in my DVD player, and sa...</td>\n",
       "      <td>Negative</td>\n",
       "    </tr>\n",
       "    <tr>\n",
       "      <th>2</th>\n",
       "      <td>Why do people who do not know what a particula...</td>\n",
       "      <td>Negative</td>\n",
       "    </tr>\n",
       "    <tr>\n",
       "      <th>3</th>\n",
       "      <td>Even though I have great interest in Biblical ...</td>\n",
       "      <td>Negative</td>\n",
       "    </tr>\n",
       "    <tr>\n",
       "      <th>4</th>\n",
       "      <td>Im a die hard Dads Army fan and nothing will e...</td>\n",
       "      <td>Positive</td>\n",
       "    </tr>\n",
       "  </tbody>\n",
       "</table>\n",
       "</div>"
      ],
      "text/plain": [
       "                                                text     label\n",
       "0  I grew up (b. 1965) watching and loving the Th...  Negative\n",
       "1  When I put this movie in my DVD player, and sa...  Negative\n",
       "2  Why do people who do not know what a particula...  Negative\n",
       "3  Even though I have great interest in Biblical ...  Negative\n",
       "4  Im a die hard Dads Army fan and nothing will e...  Positive"
      ]
     },
     "execution_count": 53,
     "metadata": {},
     "output_type": "execute_result"
    }
   ],
   "source": [
    "import numpy as np\n",
    "import pandas as pd\n",
    "\n",
    "# movie.csv -> https://www.kaggle.com/datasets/yasserh/imdb-movie-ratings-sentiment-analysis\n",
    "df = pd .read_csv('movie.csv', encoding='utf-8')\n",
    "df['label'] = df['label'].replace({0: 'Negative', 1: 'Positive'})\n",
    "df.head()"
   ]
  },
  {
   "cell_type": "code",
   "execution_count": 54,
   "metadata": {},
   "outputs": [
    {
     "data": {
      "text/html": [
       "<div>\n",
       "<style scoped>\n",
       "    .dataframe tbody tr th:only-of-type {\n",
       "        vertical-align: middle;\n",
       "    }\n",
       "\n",
       "    .dataframe tbody tr th {\n",
       "        vertical-align: top;\n",
       "    }\n",
       "\n",
       "    .dataframe thead th {\n",
       "        text-align: right;\n",
       "    }\n",
       "</style>\n",
       "<table border=\"1\" class=\"dataframe\">\n",
       "  <thead>\n",
       "    <tr style=\"text-align: right;\">\n",
       "      <th></th>\n",
       "      <th>text</th>\n",
       "      <th>label</th>\n",
       "    </tr>\n",
       "  </thead>\n",
       "  <tbody>\n",
       "    <tr>\n",
       "      <th>32823</th>\n",
       "      <td>The central theme in this movie seems to be co...</td>\n",
       "      <td>Negative</td>\n",
       "    </tr>\n",
       "    <tr>\n",
       "      <th>16298</th>\n",
       "      <td>An excellent example of \"cowboy noir\", as it's...</td>\n",
       "      <td>Positive</td>\n",
       "    </tr>\n",
       "    <tr>\n",
       "      <th>28505</th>\n",
       "      <td>The ending made my heart jump up into my throa...</td>\n",
       "      <td>Negative</td>\n",
       "    </tr>\n",
       "    <tr>\n",
       "      <th>6689</th>\n",
       "      <td>Only the chosen ones will appreciate the quali...</td>\n",
       "      <td>Positive</td>\n",
       "    </tr>\n",
       "    <tr>\n",
       "      <th>26893</th>\n",
       "      <td>This is a really funny film, especially the se...</td>\n",
       "      <td>Positive</td>\n",
       "    </tr>\n",
       "  </tbody>\n",
       "</table>\n",
       "</div>"
      ],
      "text/plain": [
       "                                                    text     label\n",
       "32823  The central theme in this movie seems to be co...  Negative\n",
       "16298  An excellent example of \"cowboy noir\", as it's...  Positive\n",
       "28505  The ending made my heart jump up into my throa...  Negative\n",
       "6689   Only the chosen ones will appreciate the quali...  Positive\n",
       "26893  This is a really funny film, especially the se...  Positive"
      ]
     },
     "execution_count": 54,
     "metadata": {},
     "output_type": "execute_result"
    }
   ],
   "source": [
    "df = df.sample(n=10, random_state=42)  # 재현성을 위해 'random_state' 값 지정\n",
    "df.head()"
   ]
  },
  {
   "cell_type": "code",
   "execution_count": 55,
   "metadata": {},
   "outputs": [],
   "source": [
    "system_message = \"\"\"\n",
    "당신은 감성 분석을 위한 이진 분류기입니다.\n",
    "주어진 텍스트를 기반으로 감성을 Positive 또는 Negative 범주 중 하나로 분류합니다.\n",
    "\n",
    "다음 텍스트들을 예시로 사용할 수 있습니다.\n",
    "\n",
    "텍스트: \"I love this product! It's fantastic and works perfectly.\"\n",
    "Positive\n",
    "\n",
    "텍스트: \"I'm really disappointed with the quality of the food.\"\n",
    "Negative\n",
    "\n",
    "텍스트: \"This is the best day of my life!\"\n",
    "Positive\n",
    "\n",
    "텍스트: \"I can't stand the noise in this restaurant.\"\n",
    "Negative\n",
    "\n",
    "\n",
    "감성만 구두점 없이 영어로 출력하세요.\n",
    "\n",
    "텍스트:\n",
    "\"\"\"\n",
    "\n",
    "text = \"The concert was amazing! The band was incredible!\""
   ]
  },
  {
   "cell_type": "code",
   "execution_count": 56,
   "metadata": {},
   "outputs": [
    {
     "name": "stdout",
     "output_type": "stream",
     "text": [
      "Positive\n"
     ]
    }
   ],
   "source": [
    "response = client.chat.completions.create(\n",
    "    model=\"gpt-4o-mini\", # engine = \"deployment_name\".\n",
    "    messages=[\n",
    "        {\"role\": \"system\", \"content\": system_message},\n",
    "        {\"role\": \"user\", \"content\": text},\n",
    "    ]\n",
    ")\n",
    "\n",
    "#print(response)\n",
    "print(response.choices[0].message.content)"
   ]
  },
  {
   "cell_type": "code",
   "execution_count": 57,
   "metadata": {},
   "outputs": [
    {
     "name": "stdout",
     "output_type": "stream",
     "text": [
      "                                                    text     label predicted\n",
      "32823  The central theme in this movie seems to be co...  Negative  Negative\n",
      "16298  An excellent example of \"cowboy noir\", as it's...  Positive  Positive\n",
      "28505  The ending made my heart jump up into my throa...  Negative  Positive\n",
      "6689   Only the chosen ones will appreciate the quali...  Positive  Positive\n",
      "26893  This is a really funny film, especially the se...  Positive  Positive\n",
      "36572  Sure, we all like bad movies at one time or an...  Negative  Negative\n",
      "12335  Why?!! This was an insipid, uninspired and emb...  Negative  Negative\n",
      "29591  This is one of those movies that has everythin...  Positive  Positive\n",
      "18948  i saw this film over 20 years ago and still re...  Positive  Positive\n",
      "31067  This true story of Carlson's Raiders is more o...  Negative  Negative\n"
     ]
    }
   ],
   "source": [
    "def process_text(text):\n",
    "    response = client.chat.completions.create(\n",
    "        model=\"gpt-4o-mini\", \n",
    "        messages=[\n",
    "            {\"role\": \"system\", \"content\": system_message},\n",
    "            {\"role\": \"user\", \"content\": text},\n",
    "        ]\n",
    "    )\n",
    "    return response.choices[0].message.content\n",
    "\n",
    "df['predicted'] = df['text'].apply(process_text)\n",
    "\n",
    "print(df)"
   ]
  },
  {
   "cell_type": "code",
   "execution_count": 58,
   "metadata": {},
   "outputs": [
    {
     "data": {
      "text/html": [
       "<div>\n",
       "<style scoped>\n",
       "    .dataframe tbody tr th:only-of-type {\n",
       "        vertical-align: middle;\n",
       "    }\n",
       "\n",
       "    .dataframe tbody tr th {\n",
       "        vertical-align: top;\n",
       "    }\n",
       "\n",
       "    .dataframe thead th {\n",
       "        text-align: right;\n",
       "    }\n",
       "</style>\n",
       "<table border=\"1\" class=\"dataframe\">\n",
       "  <thead>\n",
       "    <tr style=\"text-align: right;\">\n",
       "      <th></th>\n",
       "      <th>text</th>\n",
       "      <th>label</th>\n",
       "      <th>predicted</th>\n",
       "    </tr>\n",
       "  </thead>\n",
       "  <tbody>\n",
       "    <tr>\n",
       "      <th>32823</th>\n",
       "      <td>The central theme in this movie seems to be co...</td>\n",
       "      <td>Negative</td>\n",
       "      <td>Negative</td>\n",
       "    </tr>\n",
       "    <tr>\n",
       "      <th>16298</th>\n",
       "      <td>An excellent example of \"cowboy noir\", as it's...</td>\n",
       "      <td>Positive</td>\n",
       "      <td>Positive</td>\n",
       "    </tr>\n",
       "    <tr>\n",
       "      <th>28505</th>\n",
       "      <td>The ending made my heart jump up into my throa...</td>\n",
       "      <td>Negative</td>\n",
       "      <td>Positive</td>\n",
       "    </tr>\n",
       "    <tr>\n",
       "      <th>6689</th>\n",
       "      <td>Only the chosen ones will appreciate the quali...</td>\n",
       "      <td>Positive</td>\n",
       "      <td>Positive</td>\n",
       "    </tr>\n",
       "    <tr>\n",
       "      <th>26893</th>\n",
       "      <td>This is a really funny film, especially the se...</td>\n",
       "      <td>Positive</td>\n",
       "      <td>Positive</td>\n",
       "    </tr>\n",
       "  </tbody>\n",
       "</table>\n",
       "</div>"
      ],
      "text/plain": [
       "                                                    text     label predicted\n",
       "32823  The central theme in this movie seems to be co...  Negative  Negative\n",
       "16298  An excellent example of \"cowboy noir\", as it's...  Positive  Positive\n",
       "28505  The ending made my heart jump up into my throa...  Negative  Positive\n",
       "6689   Only the chosen ones will appreciate the quali...  Positive  Positive\n",
       "26893  This is a really funny film, especially the se...  Positive  Positive"
      ]
     },
     "execution_count": 58,
     "metadata": {},
     "output_type": "execute_result"
    }
   ],
   "source": [
    "df.head()"
   ]
  },
  {
   "cell_type": "markdown",
   "metadata": {},
   "source": [
    "## CoT (Chain of Thought)\n",
    "\n",
    "사고 연쇄(CoT)는 중간 추론 단계를 통해 복잡한 추론을 가능하게 하는 기법"
   ]
  },
  {
   "cell_type": "code",
   "execution_count": 61,
   "metadata": {},
   "outputs": [],
   "source": [
    "system_message = \"\"\"\n",
    "일반적인 1차 방정식의 해인 x 를 구하세요.\n",
    "\n",
    "방정식:\n",
    "\"\"\"\n",
    "\n",
    "equation = \"3x + 5 = 11\""
   ]
  },
  {
   "cell_type": "code",
   "execution_count": 62,
   "metadata": {},
   "outputs": [
    {
     "name": "stdout",
     "output_type": "stream",
     "text": [
      "주어진 1차 방정식은 \\( 3x + 5 = 11 \\)입니다.\n",
      "\n",
      "이 방정식을 풀어보겠습니다.\n",
      "\n",
      "1. 양변에서 5를 뺍니다:\n",
      "   \\[\n",
      "   3x + 5 - 5 = 11 - 5\n",
      "   \\]\n",
      "   \\[\n",
      "   3x = 6\n",
      "   \\]\n",
      "\n",
      "2. 양변을 3으로 나눕니다:\n",
      "   \\[\n",
      "   \\frac{3x}{3} = \\frac{6}{3}\n",
      "   \\]\n",
      "   \\[\n",
      "   x = 2\n",
      "   \\]\n",
      "\n",
      "따라서, 방정식 \\( 3x + 5 = 11 \\)의 해는 \\( x = 2 \\)입니다.\n"
     ]
    }
   ],
   "source": [
    "response = client.chat.completions.create(\n",
    "    model=\"gpt-4o-mini\",\n",
    "    messages=[\n",
    "        {\"role\": \"system\", \"content\": system_message},\n",
    "        {\"role\": \"user\", \"content\": equation},\n",
    "    ]\n",
    ")\n",
    "\n",
    "#print(response)\n",
    "print(response.choices[0].message.content)"
   ]
  },
  {
   "cell_type": "code",
   "execution_count": 59,
   "metadata": {},
   "outputs": [],
   "source": [
    "system_message = \"\"\"\n",
    "일반적인 1차 방정식을 해결하려면 다음 단계를 따르세요.\n",
    "\n",
    "1. **방정식 식별:** 해결하려는 방정식을 식별합니다. \n",
    "   방정식은 'ax + b = c' 형태여야 합니다.\n",
    "   여기서 'a'는 변수의 계수, 'x'는 변수, 'b'는 상수, 'c'는 또 다른 상수입니다.\n",
    "2. **변수 고립화:** 목표는 변수 'x'를 방정식 한쪽에 고립시키는 것입니다. \n",
    "   이를 위해 다음 단계를 수행합니다:\n",
    "   a. **상수 추가 또는 빼기:** 상수를 한쪽으로 이동시키기 위해 양쪽에서 'b'를 더하거나 뺍니다.\n",
    "   b. **계수로 나누기:** 'x'를 고립시키기 위해 양쪽을 'a'로 나눕니다. \n",
    "      'a'가 0이면 방정식에는 고유한 해가 없을 수 있습니다.\n",
    "3. **단순화:** 방정식의 양쪽을 최대한 단순화합니다.\n",
    "4. **'x'에 대해 해결:** 'x'를 한쪽에 고립시키면 해결책을 얻을 수 있습니다. \n",
    "   이는 'x = 값' 형태가 될 것입니다.\n",
    "5. **해 검토:** 찾은 'x' 값을 원래 방정식에 대입하여 방정식을 만족하는지 확인합니다. \n",
    "   그렇다면 올바른 해결책을 찾은 것입니다.\n",
    "6. **해 표현:** 해결책을 명확하고 간결한 형태로 작성합니다.\n",
    "7. **특수 경우 고려:** 'a'가 0일 때 해가 없거나 무한히 많은 해가 있을 수 있는 특수한 경우를 인지합니다.\n",
    "\n",
    "방정식:\n",
    "\"\"\"\n",
    "\n",
    "\n",
    "equation = \"3x + 5 = 11\""
   ]
  },
  {
   "cell_type": "code",
   "execution_count": 60,
   "metadata": {},
   "outputs": [
    {
     "name": "stdout",
     "output_type": "stream",
     "text": [
      "주어진 방정식은 \\( 3x + 5 = 11 \\)입니다. 이 방정식을 해결하는 단계는 다음과 같습니다.\n",
      "\n",
      "1. **방정식 식별:** \n",
      "   - 방정식은 \\( 3x + 5 = 11 \\)입니다.\n",
      "\n",
      "2. **변수 고립화:** \n",
      "   a. **상수 추가 또는 빼기:** \n",
      "      - 양쪽에서 5를 빼줍니다.\n",
      "      \\[\n",
      "      3x + 5 - 5 = 11 - 5\n",
      "      \\]\n",
      "      \\[\n",
      "      3x = 6\n",
      "      \\]\n",
      "      \n",
      "   b. **계수로 나누기:** \n",
      "      - 양쪽을 3으로 나눕니다.\n",
      "      \\[\n",
      "      \\frac{3x}{3} = \\frac{6}{3}\n",
      "      \\]\n",
      "      \\[\n",
      "      x = 2\n",
      "      \\]\n",
      "\n",
      "3. **단순화:** \n",
      "   - 방정식의 양쪽이 이미 간단해졌습니다.\n",
      "\n",
      "4. **'x'에 대해 해결:** \n",
      "   - 최종적으로 \\( x = 2 \\) 입니다.\n",
      "\n",
      "5. **해 검토:** \n",
      "   - 원래 방정식에 \\( x = 2 \\)를 대입하여 확인합니다.\n",
      "   \\[\n",
      "   3(2) + 5 = 11\n",
      "   \\]\n",
      "   \\[\n",
      "   6 + 5 = 11\n",
      "   \\]\n",
      "   - 확인 결과, 방정식이 성립합니다.\n",
      "\n",
      "6. **해 표현:** \n",
      "   - 해는 \\( x = 2 \\)입니다.\n",
      "\n",
      "7. **특수 경우 고려:** \n",
      "   - 여기서 \\( a = 3 \\)이므로 문제 없습니다. \n",
      "\n",
      "따라서 주어진 방정식의 해는 \\( x = 2 \\)입니다.\n"
     ]
    }
   ],
   "source": [
    "response = client.chat.completions.create(\n",
    "    model=\"gpt-4o-mini\",\n",
    "    messages=[\n",
    "        {\"role\": \"system\", \"content\": system_message},\n",
    "        {\"role\": \"user\", \"content\": equation},\n",
    "    ]\n",
    ")\n",
    "\n",
    "#print(response)\n",
    "print(response.choices[0].message.content)"
   ]
  },
  {
   "cell_type": "markdown",
   "metadata": {},
   "source": [
    "## 추론,행동 (ReAct) \n",
    "\n",
    "ReAct(Reason and Act) 는 추론과 행동을 LLM과 결합하는 일반적 패러다임\n",
    "\n",
    "CoT와 ReAct 접근 방식의 차이점은\n",
    "- CoT: 언어 모델에 과업에 대한 중간 추론 단계를 생성하라는 메시지를 표시\n",
    "- ReAct: 언어 모델에 과업에 대한 중간 추론 단계, 행동 및 관찰을 생성하라는 메시지를 표시\n",
    "\n",
    "행동(action) 단계는 일반적으로 웹 검색과 같은 외부 도구와 상호 작용할 수 있는 LLM의 가능성과 관련이 있다."
   ]
  },
  {
   "cell_type": "code",
   "execution_count": 63,
   "metadata": {},
   "outputs": [
    {
     "name": "stdout",
     "output_type": "stream",
     "text": [
      "Collecting google-search-results\n",
      "  Downloading google_search_results-2.4.2.tar.gz (18 kB)\n",
      "  Preparing metadata (setup.py) ... \u001b[?25ldone\n",
      "\u001b[?25hRequirement already satisfied: requests in /home/haiqv/conda/envs/py310/lib/python3.10/site-packages (from google-search-results) (2.32.3)\n",
      "Requirement already satisfied: charset-normalizer<4,>=2 in /home/haiqv/conda/envs/py310/lib/python3.10/site-packages (from requests->google-search-results) (3.4.0)\n",
      "Requirement already satisfied: idna<4,>=2.5 in /home/haiqv/conda/envs/py310/lib/python3.10/site-packages (from requests->google-search-results) (3.10)\n",
      "Requirement already satisfied: urllib3<3,>=1.21.1 in /home/haiqv/conda/envs/py310/lib/python3.10/site-packages (from requests->google-search-results) (2.2.3)\n",
      "Requirement already satisfied: certifi>=2017.4.17 in /home/haiqv/conda/envs/py310/lib/python3.10/site-packages (from requests->google-search-results) (2024.8.30)\n",
      "Building wheels for collected packages: google-search-results\n",
      "  Building wheel for google-search-results (setup.py) ... \u001b[?25ldone\n",
      "\u001b[?25h  Created wheel for google-search-results: filename=google_search_results-2.4.2-py3-none-any.whl size=32009 sha256=e418af643c8709d50dfe2eac94176a2d2cbdc822eaa2a56dc2384537c313687e\n",
      "  Stored in directory: /home/haiqv/.cache/pip/wheels/d3/b2/c3/03302d12bb44a2cdff3c9371f31b72c0c4e84b8d2285eeac53\n",
      "Successfully built google-search-results\n",
      "Installing collected packages: google-search-results\n",
      "Successfully installed google-search-results-2.4.2\n"
     ]
    }
   ],
   "source": [
    "!pip install google-search-results"
   ]
  },
  {
   "cell_type": "code",
   "execution_count": 68,
   "metadata": {},
   "outputs": [
    {
     "name": "stdout",
     "output_type": "stream",
     "text": [
      "Requirement already satisfied: langchain in /home/haiqv/conda/envs/py310/lib/python3.10/site-packages (0.3.14)\n",
      "Collecting langchain-community\n",
      "  Downloading langchain_community-0.3.14-py3-none-any.whl.metadata (2.9 kB)\n",
      "Requirement already satisfied: PyYAML>=5.3 in /home/haiqv/conda/envs/py310/lib/python3.10/site-packages (from langchain) (6.0.2)\n",
      "Requirement already satisfied: SQLAlchemy<3,>=1.4 in /home/haiqv/conda/envs/py310/lib/python3.10/site-packages (from langchain) (2.0.36)\n",
      "Requirement already satisfied: aiohttp<4.0.0,>=3.8.3 in /home/haiqv/conda/envs/py310/lib/python3.10/site-packages (from langchain) (3.11.11)\n",
      "Requirement already satisfied: async-timeout<5.0.0,>=4.0.0 in /home/haiqv/conda/envs/py310/lib/python3.10/site-packages (from langchain) (4.0.3)\n",
      "Requirement already satisfied: langchain-core<0.4.0,>=0.3.29 in /home/haiqv/conda/envs/py310/lib/python3.10/site-packages (from langchain) (0.3.29)\n",
      "Requirement already satisfied: langchain-text-splitters<0.4.0,>=0.3.3 in /home/haiqv/conda/envs/py310/lib/python3.10/site-packages (from langchain) (0.3.4)\n",
      "Requirement already satisfied: langsmith<0.3,>=0.1.17 in /home/haiqv/conda/envs/py310/lib/python3.10/site-packages (from langchain) (0.2.10)\n",
      "Requirement already satisfied: numpy<2,>=1.22.4 in /home/haiqv/conda/envs/py310/lib/python3.10/site-packages (from langchain) (1.26.4)\n",
      "Requirement already satisfied: pydantic<3.0.0,>=2.7.4 in /home/haiqv/conda/envs/py310/lib/python3.10/site-packages (from langchain) (2.10.4)\n",
      "Requirement already satisfied: requests<3,>=2 in /home/haiqv/conda/envs/py310/lib/python3.10/site-packages (from langchain) (2.32.3)\n",
      "Requirement already satisfied: tenacity!=8.4.0,<10,>=8.1.0 in /home/haiqv/conda/envs/py310/lib/python3.10/site-packages (from langchain) (9.0.0)\n",
      "Collecting dataclasses-json<0.7,>=0.5.7 (from langchain-community)\n",
      "  Downloading dataclasses_json-0.6.7-py3-none-any.whl.metadata (25 kB)\n",
      "Collecting httpx-sse<0.5.0,>=0.4.0 (from langchain-community)\n",
      "  Downloading httpx_sse-0.4.0-py3-none-any.whl.metadata (9.0 kB)\n",
      "Collecting pydantic-settings<3.0.0,>=2.4.0 (from langchain-community)\n",
      "  Downloading pydantic_settings-2.7.1-py3-none-any.whl.metadata (3.5 kB)\n",
      "Requirement already satisfied: aiohappyeyeballs>=2.3.0 in /home/haiqv/conda/envs/py310/lib/python3.10/site-packages (from aiohttp<4.0.0,>=3.8.3->langchain) (2.4.4)\n",
      "Requirement already satisfied: aiosignal>=1.1.2 in /home/haiqv/conda/envs/py310/lib/python3.10/site-packages (from aiohttp<4.0.0,>=3.8.3->langchain) (1.3.2)\n",
      "Requirement already satisfied: attrs>=17.3.0 in /home/haiqv/conda/envs/py310/lib/python3.10/site-packages (from aiohttp<4.0.0,>=3.8.3->langchain) (24.3.0)\n",
      "Requirement already satisfied: frozenlist>=1.1.1 in /home/haiqv/conda/envs/py310/lib/python3.10/site-packages (from aiohttp<4.0.0,>=3.8.3->langchain) (1.5.0)\n",
      "Requirement already satisfied: multidict<7.0,>=4.5 in /home/haiqv/conda/envs/py310/lib/python3.10/site-packages (from aiohttp<4.0.0,>=3.8.3->langchain) (6.1.0)\n",
      "Requirement already satisfied: propcache>=0.2.0 in /home/haiqv/conda/envs/py310/lib/python3.10/site-packages (from aiohttp<4.0.0,>=3.8.3->langchain) (0.2.1)\n",
      "Requirement already satisfied: yarl<2.0,>=1.17.0 in /home/haiqv/conda/envs/py310/lib/python3.10/site-packages (from aiohttp<4.0.0,>=3.8.3->langchain) (1.18.3)\n",
      "Collecting marshmallow<4.0.0,>=3.18.0 (from dataclasses-json<0.7,>=0.5.7->langchain-community)\n",
      "  Downloading marshmallow-3.23.3-py3-none-any.whl.metadata (7.1 kB)\n",
      "Collecting typing-inspect<1,>=0.4.0 (from dataclasses-json<0.7,>=0.5.7->langchain-community)\n",
      "  Downloading typing_inspect-0.9.0-py3-none-any.whl.metadata (1.5 kB)\n",
      "Requirement already satisfied: jsonpatch<2.0,>=1.33 in /home/haiqv/conda/envs/py310/lib/python3.10/site-packages (from langchain-core<0.4.0,>=0.3.29->langchain) (1.33)\n",
      "Requirement already satisfied: packaging<25,>=23.2 in /home/haiqv/conda/envs/py310/lib/python3.10/site-packages (from langchain-core<0.4.0,>=0.3.29->langchain) (24.2)\n",
      "Requirement already satisfied: typing-extensions>=4.7 in /home/haiqv/conda/envs/py310/lib/python3.10/site-packages (from langchain-core<0.4.0,>=0.3.29->langchain) (4.12.2)\n",
      "Requirement already satisfied: httpx<1,>=0.23.0 in /home/haiqv/conda/envs/py310/lib/python3.10/site-packages (from langsmith<0.3,>=0.1.17->langchain) (0.28.1)\n",
      "Requirement already satisfied: orjson<4.0.0,>=3.9.14 in /home/haiqv/conda/envs/py310/lib/python3.10/site-packages (from langsmith<0.3,>=0.1.17->langchain) (3.10.13)\n",
      "Requirement already satisfied: requests-toolbelt<2.0.0,>=1.0.0 in /home/haiqv/conda/envs/py310/lib/python3.10/site-packages (from langsmith<0.3,>=0.1.17->langchain) (1.0.0)\n",
      "Requirement already satisfied: annotated-types>=0.6.0 in /home/haiqv/conda/envs/py310/lib/python3.10/site-packages (from pydantic<3.0.0,>=2.7.4->langchain) (0.7.0)\n",
      "Requirement already satisfied: pydantic-core==2.27.2 in /home/haiqv/conda/envs/py310/lib/python3.10/site-packages (from pydantic<3.0.0,>=2.7.4->langchain) (2.27.2)\n",
      "Requirement already satisfied: python-dotenv>=0.21.0 in /home/haiqv/conda/envs/py310/lib/python3.10/site-packages (from pydantic-settings<3.0.0,>=2.4.0->langchain-community) (1.0.1)\n",
      "Requirement already satisfied: charset-normalizer<4,>=2 in /home/haiqv/conda/envs/py310/lib/python3.10/site-packages (from requests<3,>=2->langchain) (3.4.0)\n",
      "Requirement already satisfied: idna<4,>=2.5 in /home/haiqv/conda/envs/py310/lib/python3.10/site-packages (from requests<3,>=2->langchain) (3.10)\n",
      "Requirement already satisfied: urllib3<3,>=1.21.1 in /home/haiqv/conda/envs/py310/lib/python3.10/site-packages (from requests<3,>=2->langchain) (2.2.3)\n",
      "Requirement already satisfied: certifi>=2017.4.17 in /home/haiqv/conda/envs/py310/lib/python3.10/site-packages (from requests<3,>=2->langchain) (2024.8.30)\n",
      "Requirement already satisfied: greenlet!=0.4.17 in /home/haiqv/conda/envs/py310/lib/python3.10/site-packages (from SQLAlchemy<3,>=1.4->langchain) (3.1.1)\n",
      "Requirement already satisfied: anyio in /home/haiqv/conda/envs/py310/lib/python3.10/site-packages (from httpx<1,>=0.23.0->langsmith<0.3,>=0.1.17->langchain) (4.7.0)\n",
      "Requirement already satisfied: httpcore==1.* in /home/haiqv/conda/envs/py310/lib/python3.10/site-packages (from httpx<1,>=0.23.0->langsmith<0.3,>=0.1.17->langchain) (1.0.7)\n",
      "Requirement already satisfied: h11<0.15,>=0.13 in /home/haiqv/conda/envs/py310/lib/python3.10/site-packages (from httpcore==1.*->httpx<1,>=0.23.0->langsmith<0.3,>=0.1.17->langchain) (0.14.0)\n",
      "Requirement already satisfied: jsonpointer>=1.9 in /home/haiqv/conda/envs/py310/lib/python3.10/site-packages (from jsonpatch<2.0,>=1.33->langchain-core<0.4.0,>=0.3.29->langchain) (3.0.0)\n",
      "Collecting mypy-extensions>=0.3.0 (from typing-inspect<1,>=0.4.0->dataclasses-json<0.7,>=0.5.7->langchain-community)\n",
      "  Downloading mypy_extensions-1.0.0-py3-none-any.whl.metadata (1.1 kB)\n",
      "Requirement already satisfied: exceptiongroup>=1.0.2 in /home/haiqv/conda/envs/py310/lib/python3.10/site-packages (from anyio->httpx<1,>=0.23.0->langsmith<0.3,>=0.1.17->langchain) (1.2.2)\n",
      "Requirement already satisfied: sniffio>=1.1 in /home/haiqv/conda/envs/py310/lib/python3.10/site-packages (from anyio->httpx<1,>=0.23.0->langsmith<0.3,>=0.1.17->langchain) (1.3.1)\n",
      "Downloading langchain_community-0.3.14-py3-none-any.whl (2.5 MB)\n",
      "\u001b[2K   \u001b[90m━━━━━━━━━━━━━━━━━━━━━━━━━━━━━━━━━━━━━━━━\u001b[0m \u001b[32m2.5/2.5 MB\u001b[0m \u001b[31m74.6 MB/s\u001b[0m eta \u001b[36m0:00:00\u001b[0m\n",
      "\u001b[?25hDownloading dataclasses_json-0.6.7-py3-none-any.whl (28 kB)\n",
      "Downloading httpx_sse-0.4.0-py3-none-any.whl (7.8 kB)\n",
      "Downloading pydantic_settings-2.7.1-py3-none-any.whl (29 kB)\n",
      "Downloading marshmallow-3.23.3-py3-none-any.whl (48 kB)\n",
      "Downloading typing_inspect-0.9.0-py3-none-any.whl (8.8 kB)\n",
      "Downloading mypy_extensions-1.0.0-py3-none-any.whl (4.7 kB)\n",
      "Installing collected packages: mypy-extensions, marshmallow, httpx-sse, typing-inspect, pydantic-settings, dataclasses-json, langchain-community\n",
      "Successfully installed dataclasses-json-0.6.7 httpx-sse-0.4.0 langchain-community-0.3.14 marshmallow-3.23.3 mypy-extensions-1.0.0 pydantic-settings-2.7.1 typing-inspect-0.9.0\n"
     ]
    }
   ],
   "source": [
    "!pip install langchain langchain-community"
   ]
  },
  {
   "cell_type": "code",
   "execution_count": 70,
   "metadata": {},
   "outputs": [
    {
     "name": "stdout",
     "output_type": "stream",
     "text": [
      "Collecting langchain_openai\n",
      "  Downloading langchain_openai-0.2.14-py3-none-any.whl.metadata (2.7 kB)\n",
      "Requirement already satisfied: langchain-core<0.4.0,>=0.3.27 in /home/haiqv/conda/envs/py310/lib/python3.10/site-packages (from langchain_openai) (0.3.29)\n",
      "Requirement already satisfied: openai<2.0.0,>=1.58.1 in /home/haiqv/conda/envs/py310/lib/python3.10/site-packages (from langchain_openai) (1.58.1)\n",
      "Requirement already satisfied: tiktoken<1,>=0.7 in /home/haiqv/conda/envs/py310/lib/python3.10/site-packages (from langchain_openai) (0.7.0)\n",
      "Requirement already satisfied: PyYAML>=5.3 in /home/haiqv/conda/envs/py310/lib/python3.10/site-packages (from langchain-core<0.4.0,>=0.3.27->langchain_openai) (6.0.2)\n",
      "Requirement already satisfied: jsonpatch<2.0,>=1.33 in /home/haiqv/conda/envs/py310/lib/python3.10/site-packages (from langchain-core<0.4.0,>=0.3.27->langchain_openai) (1.33)\n",
      "Requirement already satisfied: langsmith<0.3,>=0.1.125 in /home/haiqv/conda/envs/py310/lib/python3.10/site-packages (from langchain-core<0.4.0,>=0.3.27->langchain_openai) (0.2.10)\n",
      "Requirement already satisfied: packaging<25,>=23.2 in /home/haiqv/conda/envs/py310/lib/python3.10/site-packages (from langchain-core<0.4.0,>=0.3.27->langchain_openai) (24.2)\n",
      "Requirement already satisfied: pydantic<3.0.0,>=2.5.2 in /home/haiqv/conda/envs/py310/lib/python3.10/site-packages (from langchain-core<0.4.0,>=0.3.27->langchain_openai) (2.10.4)\n",
      "Requirement already satisfied: tenacity!=8.4.0,<10.0.0,>=8.1.0 in /home/haiqv/conda/envs/py310/lib/python3.10/site-packages (from langchain-core<0.4.0,>=0.3.27->langchain_openai) (9.0.0)\n",
      "Requirement already satisfied: typing-extensions>=4.7 in /home/haiqv/conda/envs/py310/lib/python3.10/site-packages (from langchain-core<0.4.0,>=0.3.27->langchain_openai) (4.12.2)\n",
      "Requirement already satisfied: anyio<5,>=3.5.0 in /home/haiqv/conda/envs/py310/lib/python3.10/site-packages (from openai<2.0.0,>=1.58.1->langchain_openai) (4.7.0)\n",
      "Requirement already satisfied: distro<2,>=1.7.0 in /home/haiqv/conda/envs/py310/lib/python3.10/site-packages (from openai<2.0.0,>=1.58.1->langchain_openai) (1.9.0)\n",
      "Requirement already satisfied: httpx<1,>=0.23.0 in /home/haiqv/conda/envs/py310/lib/python3.10/site-packages (from openai<2.0.0,>=1.58.1->langchain_openai) (0.28.1)\n",
      "Requirement already satisfied: jiter<1,>=0.4.0 in /home/haiqv/conda/envs/py310/lib/python3.10/site-packages (from openai<2.0.0,>=1.58.1->langchain_openai) (0.8.2)\n",
      "Requirement already satisfied: sniffio in /home/haiqv/conda/envs/py310/lib/python3.10/site-packages (from openai<2.0.0,>=1.58.1->langchain_openai) (1.3.1)\n",
      "Requirement already satisfied: tqdm>4 in /home/haiqv/conda/envs/py310/lib/python3.10/site-packages (from openai<2.0.0,>=1.58.1->langchain_openai) (4.67.1)\n",
      "Requirement already satisfied: regex>=2022.1.18 in /home/haiqv/conda/envs/py310/lib/python3.10/site-packages (from tiktoken<1,>=0.7->langchain_openai) (2024.11.6)\n",
      "Requirement already satisfied: requests>=2.26.0 in /home/haiqv/conda/envs/py310/lib/python3.10/site-packages (from tiktoken<1,>=0.7->langchain_openai) (2.32.3)\n",
      "Requirement already satisfied: exceptiongroup>=1.0.2 in /home/haiqv/conda/envs/py310/lib/python3.10/site-packages (from anyio<5,>=3.5.0->openai<2.0.0,>=1.58.1->langchain_openai) (1.2.2)\n",
      "Requirement already satisfied: idna>=2.8 in /home/haiqv/conda/envs/py310/lib/python3.10/site-packages (from anyio<5,>=3.5.0->openai<2.0.0,>=1.58.1->langchain_openai) (3.10)\n",
      "Requirement already satisfied: certifi in /home/haiqv/conda/envs/py310/lib/python3.10/site-packages (from httpx<1,>=0.23.0->openai<2.0.0,>=1.58.1->langchain_openai) (2024.8.30)\n",
      "Requirement already satisfied: httpcore==1.* in /home/haiqv/conda/envs/py310/lib/python3.10/site-packages (from httpx<1,>=0.23.0->openai<2.0.0,>=1.58.1->langchain_openai) (1.0.7)\n",
      "Requirement already satisfied: h11<0.15,>=0.13 in /home/haiqv/conda/envs/py310/lib/python3.10/site-packages (from httpcore==1.*->httpx<1,>=0.23.0->openai<2.0.0,>=1.58.1->langchain_openai) (0.14.0)\n",
      "Requirement already satisfied: jsonpointer>=1.9 in /home/haiqv/conda/envs/py310/lib/python3.10/site-packages (from jsonpatch<2.0,>=1.33->langchain-core<0.4.0,>=0.3.27->langchain_openai) (3.0.0)\n",
      "Requirement already satisfied: orjson<4.0.0,>=3.9.14 in /home/haiqv/conda/envs/py310/lib/python3.10/site-packages (from langsmith<0.3,>=0.1.125->langchain-core<0.4.0,>=0.3.27->langchain_openai) (3.10.13)\n",
      "Requirement already satisfied: requests-toolbelt<2.0.0,>=1.0.0 in /home/haiqv/conda/envs/py310/lib/python3.10/site-packages (from langsmith<0.3,>=0.1.125->langchain-core<0.4.0,>=0.3.27->langchain_openai) (1.0.0)\n",
      "Requirement already satisfied: annotated-types>=0.6.0 in /home/haiqv/conda/envs/py310/lib/python3.10/site-packages (from pydantic<3.0.0,>=2.5.2->langchain-core<0.4.0,>=0.3.27->langchain_openai) (0.7.0)\n",
      "Requirement already satisfied: pydantic-core==2.27.2 in /home/haiqv/conda/envs/py310/lib/python3.10/site-packages (from pydantic<3.0.0,>=2.5.2->langchain-core<0.4.0,>=0.3.27->langchain_openai) (2.27.2)\n",
      "Requirement already satisfied: charset-normalizer<4,>=2 in /home/haiqv/conda/envs/py310/lib/python3.10/site-packages (from requests>=2.26.0->tiktoken<1,>=0.7->langchain_openai) (3.4.0)\n",
      "Requirement already satisfied: urllib3<3,>=1.21.1 in /home/haiqv/conda/envs/py310/lib/python3.10/site-packages (from requests>=2.26.0->tiktoken<1,>=0.7->langchain_openai) (2.2.3)\n",
      "Downloading langchain_openai-0.2.14-py3-none-any.whl (50 kB)\n",
      "Installing collected packages: langchain_openai\n",
      "Successfully installed langchain_openai-0.2.14\n"
     ]
    }
   ],
   "source": [
    "!pip install langchain_openai"
   ]
  },
  {
   "cell_type": "code",
   "execution_count": 74,
   "metadata": {},
   "outputs": [
    {
     "name": "stderr",
     "output_type": "stream",
     "text": [
      "/home/haiqv/conda/envs/py310/lib/python3.10/site-packages/langsmith/client.py:256: LangSmithMissingAPIKeyWarning: API key must be provided when using hosted LangSmith API\n",
      "  warnings.warn(\n"
     ]
    }
   ],
   "source": [
    "# 예를 들어서 올림픽 경기에 대한 최신 정보를 모델에 요청하고 싶다고 가정하자.\n",
    "\n",
    "from langchain import hub\n",
    "from langchain.agents import AgentExecutor, create_react_agent, load_tools\n",
    "from langchain_openai import ChatOpenAI\n",
    "\n",
    "from dotenv import load_dotenv\n",
    "load_dotenv()\n",
    "\n",
    "chat = ChatOpenAI(model_name=\"gpt-4o-mini\")\n",
    "tools = load_tools([\"serpapi\"])\n",
    "prompt = hub.pull(\"hwchase17/react\")\n",
    "\n",
    "agent = create_react_agent(chat, tools, prompt)\n",
    "agent_executor = AgentExecutor(agent=agent, tools=tools, verbose=True)"
   ]
  },
  {
   "cell_type": "code",
   "execution_count": 75,
   "metadata": {},
   "outputs": [
    {
     "name": "stdout",
     "output_type": "stream",
     "text": [
      "Answer the following questions as best you can. You have access to the following tools:\n",
      "\n",
      "{tools}\n",
      "\n",
      "Use the following format:\n",
      "\n",
      "Question: the input question you must answer\n",
      "Thought: you should always think about what to do\n",
      "Action: the action to take, should be one of [{tool_names}]\n",
      "Action Input: the input to the action\n",
      "Observation: the result of the action\n",
      "... (this Thought/Action/Action Input/Observation can repeat N times)\n",
      "Thought: I now know the final answer\n",
      "Final Answer: the final answer to the original input question\n",
      "\n",
      "Begin!\n",
      "\n",
      "Question: {input}\n",
      "Thought:{agent_scratchpad}\n"
     ]
    }
   ],
   "source": [
    "print(prompt.template)"
   ]
  },
  {
   "cell_type": "code",
   "execution_count": 77,
   "metadata": {},
   "outputs": [
    {
     "name": "stdout",
     "output_type": "stream",
     "text": [
      "\n",
      "\n",
      "\u001b[1m> Entering new AgentExecutor chain...\u001b[0m\n",
      "\u001b[32;1m\u001b[1;3mI need to find out which South Korean athlete won a medal in the women's 10m air pistol event at the 2024 Paris Olympics. Since the event is in the future, I will search for any recent updates or predictions regarding the event and the athletes who may compete.\n",
      "\n",
      "Action: Search  \n",
      "Action Input: \"2024 Paris Olympics women's 10m air pistol South Korea medalist\"  \u001b[0m\u001b[36;1m\u001b[1;3m[\"South Korea dominated the women's 10m air pistol event at the 2024 Paris Olympics after its athletes Oh Ye-jin and Kim Yeji won gold and silver, ...\", '19-year-old @Olympics debutant Oh Ye Jin secures 10m Air Pistol gold in record-breaking fashion! Compatriot Kim Yeji 🥈 completed a 1-2 for Republic of Korea.', '\"Oh Ye Jin of South Korea smashes an Olympic shooting record to win gold in Paris\". The Toronto Star. 28 July 2024. Retrieved 28 July 2024. ^ \"Records ...', \"The internet's new favourite Olympian, South Korean pistol shooter Kim Yeji, is one of the Paris Games' most notable stars so far.\", \"Kim Yeji of the Republic of Korea finished with a [+][-] silver medal in the women's 10m Air Pistol Final. (Photo by Charles McQuillan/Getty ...\", \"Paris 2024 Olympics: Republic of Korea's Oh Ye Jin smashes Olympic record to win historic women's 10m air pistol gold · Paris 2024 shooting ...\", \"Oh Ye Jin took the gold and Kim Yeji the silver in women's 10-meter air pistol — and both beat the previous record — but said it didn't much ...\", \"Two South Korean shooters broke an Olympic record to finish with gold and silver medals in the women's 10-meter air pistol event Sunday.\"]\u001b[0m\u001b[32;1m\u001b[1;3mI have gathered information about the South Korean athletes who participated in the women's 10m air pistol event at the 2024 Paris Olympics. Oh Ye-jin won the gold medal and Kim Ye-ji won the silver medal.\n",
      "\n",
      "Final Answer: 대한민국 선수는 오예진 (금메달)과 김예지 (은메달)입니다.\u001b[0m\n",
      "\n",
      "\u001b[1m> Finished chain.\u001b[0m\n",
      "{'input': '2024 파리 올림픽 사격 여자 10m 공기권총에서 메달을 획득한 대한민국 선수는?\\n\\nResult: <선수 이름>', 'output': '대한민국 선수는 오예진 (금메달)과 김예지 (은메달)입니다.'}\n"
     ]
    }
   ],
   "source": [
    "result = agent_executor.invoke({\"input\": \"2024 파리 올림픽 사격 여자 10m 공기권총에서 메달을 획득한 대한민국 선수는?\\n\\nResult: <선수 이름>\"})\n",
    "print(result)"
   ]
  },
  {
   "cell_type": "code",
   "execution_count": null,
   "metadata": {},
   "outputs": [],
   "source": []
  }
 ],
 "metadata": {
  "language_info": {
   "name": "python"
  }
 },
 "nbformat": 4,
 "nbformat_minor": 2
}
